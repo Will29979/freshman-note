{
 "cells": [
  {
   "cell_type": "code",
   "execution_count": 1,
   "metadata": {
    "collapsed": true
   },
   "outputs": [],
   "source": [
    "from __future__ import print_function\n",
    "from ipywidgets import interact, interactive, fixed, interact_manual\n",
    "import ipywidgets as widgets"
   ]
  },
  {
   "cell_type": "code",
   "execution_count": 3,
   "metadata": {
    "collapsed": true
   },
   "outputs": [],
   "source": [
    "import os.path\n",
    "import sys\n",
    "import array\n",
    "import time\n",
    "import serial\n",
    "\n",
    "import matplotlib.pyplot as plt\n",
    "import numpy as np\n",
    "\n",
    "def setVol(ser,n):\n",
    "    \"\"\"\n",
    "    input: \n",
    "        n:the modulation voltage in Volte\n",
    "    output: \n",
    "        the modulation voltage after re-setting\n",
    "    set the modulation voltage to n and return voltage at present\n",
    "    \"\"\"\n",
    "    st='SLVL'+str(n)+'\\n'\n",
    "    ser.write(str.encode(st))\n",
    "    ser.write(str.encode('SLVL?\\n')) #return the modulation voltage after re-setting\n",
    "    s = ser.read(256);\n",
    "    return s\n",
    "\n",
    "def setSens(ser,n):\n",
    "    \"\"\"\n",
    "    input: \n",
    "        n:the modulation voltage in Volte\n",
    "    output: \n",
    "        the modulation voltage after re-setting\n",
    "    set the modulation voltage to n and return voltage at present\n",
    "    \"\"\"\n",
    "    st='SENS'+str(n)+'\\n'\n",
    "    ser.write(str.encode(st))\n",
    "    ser.write(str.encode('SLVL?\\n')) #return the modulation voltage after re-setting\n",
    "    s = ser.read(256);\n",
    "    return s\n",
    "\n",
    "def cmdser(ser,cmd):\n",
    "    \"\"\"\n",
    "    input:\n",
    "        ser: your serial\n",
    "        cmd: strings of command\n",
    "            '*IDN?'= Queries the device identification\n",
    "            'OUTP?1' = Queries the value of X (CH1)\n",
    "            for other command, refer: http://users.df.uba.ar/dgrosz/material%20adicional/manual%20lock-in%20SR830.pdf from page 85.\n",
    "    output:\n",
    "        natural return\n",
    "    giving command to SR830\n",
    "    \"\"\"\n",
    "#     print('Sending:', cmd)\n",
    "    ser.write(str.encode(cmd+'\\n'))#read output in channel 1\n",
    "    s = ser.read(256);\n",
    "    if len(s) > 0:\n",
    "        print(s)\n",
    "    return(s)\n",
    "def cmd(ser,cmd):\n",
    "    ser.write(str.encode(cmd+'\\n'))#read output in channel 1\n",
    "    s = ser.read(256);\n",
    "    return(s)"
   ]
  },
  {
   "cell_type": "code",
   "execution_count": 9,
   "metadata": {
    "collapsed": true
   },
   "outputs": [],
   "source": [
    "def timeCons(s,num,unit):\n",
    "    d1 = ['1','3','10','30','100','300']\n",
    "    d2 = ['us','ms','s','ks']\n",
    "    x = d1.index(num)\n",
    "    y = d2.index(unit)\n",
    "    index = x+y*6-2\n",
    "    if(index<0 or index>19):\n",
    "        print('invalid input')\n",
    "    else:\n",
    "        cmd(s,'OFLT'+str(index))\n",
    "        \n",
    "def sens(s,num,unit):\n",
    "    d1 = ['1','2','5','10','20','50','100','200','500']\n",
    "    d2 = ['nV/fA','uV/pA','mV/nA','V/uA']\n",
    "    x = d1.index(num)\n",
    "    y = d2.index(unit)\n",
    "    index =x+y*9-1\n",
    "    if(index<0 or index>26):\n",
    "        print('invalid input')\n",
    "    else:\n",
    "        cmd(s,'OFLT'+str(index))\n",
    "#         return(index)"
   ]
  },
  {
   "cell_type": "code",
   "execution_count": 4,
   "metadata": {
    "collapsed": true
   },
   "outputs": [],
   "source": [
    "def Volbar(s):\n",
    "    interact(setVol,ser=fixed(s),Vol=widgets.IntSlider(min=-30, max=30, step=1, value=0))\n",
    "\n",
    "def plotOut(ser,timeout=0.3):\n",
    "    o1=[]\n",
    "    o2=[]\n",
    "    while(True):\n",
    "        a1 = cmdser(ser,'OUTP?1')\n",
    "        a2 = cmdser(ser,'OUTP?2')\n",
    "        a1.decode();\n",
    "        a2.decode();\n",
    "        b1 = float(a1[0:4]);\n",
    "        b2 = float(a2[0:4]);\n",
    "        \n",
    "        o1.append(b1);\n",
    "        o2.append(b2);\n",
    "\n",
    "        # Limit o1 and o2 lists to 30 items\n",
    "        o1=o1[-30:]\n",
    "        o2=o2[-30:]\n",
    "        \n",
    "        plt.cla();\n",
    "        plt.plot(o1,lable='Out1');\n",
    "        plt.plot(o2,lable='Out2');\n",
    "        plt.legend()\n",
    "        time.sleep(timeout)\n",
    "        plt.show()\n",
    "\n",
    "def readOut1(ser,timeout=0.3):\n",
    "    while True:\n",
    "        a1 = cmdser(ser,'OUTP?1');\n",
    "        print(\"\\r\"+\"Out1=\"+o1,end=\"\");\n",
    "        time.sleep(timeout)\n",
    "\n",
    "def readOut2(ser,timeout=0.3):\n",
    "    while True:\n",
    "        a2 = cmdser(ser,'OUTP?2');\n",
    "        print(\"\\r\"+\"Out2=\"+o1,end=\"\");\n",
    "        time.sleep(timeout)"
   ]
  },
  {
   "cell_type": "code",
   "execution_count": 5,
   "metadata": {
    "collapsed": true
   },
   "outputs": [],
   "source": [
    "from multiprocessing import Process\n",
    "def runInParallel(*fns):\n",
    "  proc = []\n",
    "  for fn in fns:\n",
    "    p = Process(target=fn)\n",
    "    p.start()\n",
    "    proc.append(p)\n",
    "  for p in proc:\n",
    "    p.join()"
   ]
  },
  {
   "cell_type": "code",
   "execution_count": 6,
   "metadata": {
    "collapsed": true
   },
   "outputs": [],
   "source": [
    "def guiAll(Port,timeout=0.3):\n",
    "    ser = serial.Serial(Port, 9600, timeout=1)\n",
    "    t = timeout;\n",
    "    runInParallel(Volbar(ser),readOut1(ser,t),readOut2(ser,t),plotOut(ser,t))"
   ]
  },
  {
   "cell_type": "code",
   "execution_count": 7,
   "metadata": {},
   "outputs": [
    {
     "name": "stdout",
     "output_type": "stream",
     "text": [
      "/dev/cu.Bluetooth-Incoming-Port\n",
      "/dev/cu.ZebraMachine-SPPDev\n",
      "2 ports found\n"
     ]
    }
   ],
   "source": [
    "import serial.tools.list_ports\n",
    "\n",
    "ports = serial.tools.list_ports.comports()\n",
    "for p in ports:\n",
    "    print(p.device)\n",
    "print(len(ports), 'ports found')"
   ]
  },
  {
   "cell_type": "markdown",
   "metadata": {},
   "source": [
    "# testing"
   ]
  },
  {
   "cell_type": "code",
   "execution_count": 6,
   "metadata": {
    "collapsed": true
   },
   "outputs": [],
   "source": [
    "import serial, sys\n",
    "port = '/dev/cu.usbserial-PX4IHXWN'\n",
    "baudrate = 9600\n",
    "ser = serial.Serial(port,baudrate,timeout=1)"
   ]
  },
  {
   "cell_type": "code",
   "execution_count": null,
   "metadata": {
    "collapsed": true
   },
   "outputs": [],
   "source": [
    "#setVol(ser,n)"
   ]
  },
  {
   "cell_type": "code",
   "execution_count": null,
   "metadata": {
    "collapsed": true
   },
   "outputs": [],
   "source": [
    "interact(timeCons,s=fixed(ser),num=['1','3','10','30','100','300'],unit=['us','ms','s','ks'])\n",
    "interact(sens,s=fixed(ser),num=['1','2','5','10','20','50','100','200','500'],unit=['nV/fA','uV/pA','mV/nA','V/uA'])"
   ]
  },
  {
   "cell_type": "code",
   "execution_count": null,
   "metadata": {
    "collapsed": true
   },
   "outputs": [],
   "source": []
  },
  {
   "cell_type": "markdown",
   "metadata": {},
   "source": [
    "plot test"
   ]
  },
  {
   "cell_type": "code",
   "execution_count": 10,
   "metadata": {
    "collapsed": true
   },
   "outputs": [],
   "source": [
    "%matplotlib notebook"
   ]
  },
  {
   "cell_type": "code",
   "execution_count": null,
   "metadata": {
    "collapsed": true
   },
   "outputs": [],
   "source": [
    "import matplotlib.pyplot as plt\n",
    "import matplotlib.animation as animation\n",
    "from matplotlib import style\n",
    "import numpy as np\n",
    "import random\n",
    "import serial\n",
    "\n",
    "#initialize serial port\n",
    "ser = serial.Serial()\n",
    "ser.port = '/dev/ttyACM0' #Arduino serial port\n",
    "ser.baudrate = 9600\n",
    "ser.timeout = 10 #specify timeout when using readline()\n",
    "ser.open()\n",
    "if ser.is_open==True:\n",
    "\tprint(\"\\nAll right, serial port now open. Configuration:\\n\")\n",
    "\tprint(ser, \"\\n\") #print serial parameters\n",
    "\n",
    "# Create figure for plotting\n",
    "fig = plt.figure()\n",
    "ax = fig.add_subplot(1, 1, 1)\n",
    "xs = [] #store trials here (n)\n",
    "ys = [] #store relative frequency here\n",
    "rs = [] #for theoretical probability\n",
    "\n",
    "# This function is called periodically from FuncAnimation\n",
    "def animate(i, xs, ys):\n",
    "\n",
    "    #Aquire and parse data from serial port\n",
    "    line=ser.readline()      #ascii\n",
    "    line_as_list = line.split(b',')\n",
    "    i = int(line_as_list[0])\n",
    "    relProb = line_as_list[1]\n",
    "    relProb_as_list = relProb.split(b'\\n')\n",
    "    relProb_float = float(relProb_as_list[0])\n",
    "\t\n",
    "\t# Add x and y to lists\n",
    "    xs.append(i)\n",
    "    ys.append(relProb_float)\n",
    "    rs.append(0.5)\n",
    "\n",
    "    # Limit x and y lists to 20 items\n",
    "    #xs = xs[-20:]\n",
    "    #ys = ys[-20:]\n",
    "\n",
    "    # Draw x and y lists\n",
    "    ax.clear()\n",
    "    ax.plot(xs, ys, label=\"Experimental Probability\")\n",
    "    ax.plot(xs, rs, label=\"Theoretical Probability\")\n",
    "\n",
    "    # Format plot\n",
    "    plt.xticks(rotation=45, ha='right')\n",
    "    plt.subplots_adjust(bottom=0.30)\n",
    "    plt.title('This is how I roll...')\n",
    "    plt.ylabel('Relative frequency')\n",
    "    plt.legend()\n",
    "    plt.axis([1, None, 0, 1.1]) #Use for arbitrary number of trials\n",
    "    #plt.axis([1, 100, 0, 1.1]) #Use for 100 trial demo\n",
    "\n",
    "# Set up plot to call animate() function periodically\n",
    "ani = animation.FuncAnimation(fig, animate, fargs=(xs, ys), interval=1000)\n",
    "plt.show()"
   ]
  },
  {
   "cell_type": "code",
   "execution_count": null,
   "metadata": {
    "collapsed": true
   },
   "outputs": [],
   "source": [
    "import random\n",
    "from itertools import count\n",
    "import pandas as pd\n",
    "import matplotlib.pyplot as plt\n",
    "from matplotlib.animation import FuncAnimation\n",
    "\n",
    "plt.style.use('fivethirtyeight')\n",
    "\n",
    "x_vals = []\n",
    "y_vals = []\n",
    "\n",
    "index = count()\n",
    "\n",
    "\n",
    "def animate(i):\n",
    "    data = pd.read_csv('data.csv')\n",
    "    x = data['x_value']\n",
    "    y1 = data['total_1']\n",
    "    y2 = data['total_2']\n",
    "\n",
    "    plt.cla()\n",
    "\n",
    "    plt.plot(x, y1, label='Channel 1')\n",
    "    plt.plot(x, y2, label='Channel 2')\n",
    "\n",
    "    plt.legend(loc='upper left')\n",
    "    plt.tight_layout()\n",
    "\n",
    "\n",
    "ani = FuncAnimation(plt.gcf(), animate, interval=1000)\n",
    "\n",
    "plt.tight_layout()\n",
    "plt.show()"
   ]
  }
 ],
 "metadata": {
  "kernelspec": {
   "display_name": "Python 3",
   "language": "python",
   "name": "python3"
  },
  "language_info": {
   "codemirror_mode": {
    "name": "ipython",
    "version": 3
   },
   "file_extension": ".py",
   "mimetype": "text/x-python",
   "name": "python",
   "nbconvert_exporter": "python",
   "pygments_lexer": "ipython3",
   "version": "3.6.7"
  }
 },
 "nbformat": 4,
 "nbformat_minor": 4
}
